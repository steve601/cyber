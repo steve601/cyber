{
 "cells": [
  {
   "cell_type": "markdown",
   "id": "cbe5f5a0",
   "metadata": {},
   "source": [
    "## Importing useful libraries"
   ]
  },
  {
   "cell_type": "code",
   "execution_count": 1,
   "id": "3e014897",
   "metadata": {},
   "outputs": [
    {
     "name": "stdout",
     "output_type": "stream",
     "text": [
      "WARNING:tensorflow:From C:\\Users\\odhia\\AppData\\Local\\anaconda3\\lib\\site-packages\\keras\\src\\losses.py:2976: The name tf.losses.sparse_softmax_cross_entropy is deprecated. Please use tf.compat.v1.losses.sparse_softmax_cross_entropy instead.\n",
      "\n"
     ]
    }
   ],
   "source": [
    "import pandas as pd\n",
    "import numpy as np\n",
    "import seaborn as sns \n",
    "import matplotlib.pyplot as plt\n",
    "import re\n",
    "import nltk\n",
    "import gensim\n",
    "from gensim.models import word2vec\n",
    "from gensim.models.word2vec import Word2Vec\n",
    "import gensim.downloader as api\n",
    "from nltk.corpus import stopwords\n",
    "from keras.preprocessing.sequence import pad_sequences\n",
    "from keras.preprocessing.text import one_hot,Tokenizer\n",
    "from keras.models import Sequential\n",
    "from keras.layers import LSTM,Dense,Embedding"
   ]
  },
  {
   "cell_type": "markdown",
   "id": "796553b9",
   "metadata": {},
   "source": [
    "## Loading dataset"
   ]
  },
  {
   "cell_type": "code",
   "execution_count": 2,
   "id": "285cca3b",
   "metadata": {
    "scrolled": true
   },
   "outputs": [
    {
     "data": {
      "text/html": [
       "<div>\n",
       "<style scoped>\n",
       "    .dataframe tbody tr th:only-of-type {\n",
       "        vertical-align: middle;\n",
       "    }\n",
       "\n",
       "    .dataframe tbody tr th {\n",
       "        vertical-align: top;\n",
       "    }\n",
       "\n",
       "    .dataframe thead th {\n",
       "        text-align: right;\n",
       "    }\n",
       "</style>\n",
       "<table border=\"1\" class=\"dataframe\">\n",
       "  <thead>\n",
       "    <tr style=\"text-align: right;\">\n",
       "      <th></th>\n",
       "      <th>tweet_text</th>\n",
       "      <th>cyberbullying_type</th>\n",
       "    </tr>\n",
       "  </thead>\n",
       "  <tbody>\n",
       "    <tr>\n",
       "      <th>0</th>\n",
       "      <td>In other words #katandandre, your food was cra...</td>\n",
       "      <td>not_cyberbullying</td>\n",
       "    </tr>\n",
       "    <tr>\n",
       "      <th>1</th>\n",
       "      <td>Why is #aussietv so white? #MKR #theblock #ImA...</td>\n",
       "      <td>not_cyberbullying</td>\n",
       "    </tr>\n",
       "    <tr>\n",
       "      <th>2</th>\n",
       "      <td>@XochitlSuckkks a classy whore? Or more red ve...</td>\n",
       "      <td>not_cyberbullying</td>\n",
       "    </tr>\n",
       "    <tr>\n",
       "      <th>3</th>\n",
       "      <td>@Jason_Gio meh. :P  thanks for the heads up, b...</td>\n",
       "      <td>not_cyberbullying</td>\n",
       "    </tr>\n",
       "    <tr>\n",
       "      <th>4</th>\n",
       "      <td>@RudhoeEnglish This is an ISIS account pretend...</td>\n",
       "      <td>not_cyberbullying</td>\n",
       "    </tr>\n",
       "  </tbody>\n",
       "</table>\n",
       "</div>"
      ],
      "text/plain": [
       "                                          tweet_text cyberbullying_type\n",
       "0  In other words #katandandre, your food was cra...  not_cyberbullying\n",
       "1  Why is #aussietv so white? #MKR #theblock #ImA...  not_cyberbullying\n",
       "2  @XochitlSuckkks a classy whore? Or more red ve...  not_cyberbullying\n",
       "3  @Jason_Gio meh. :P  thanks for the heads up, b...  not_cyberbullying\n",
       "4  @RudhoeEnglish This is an ISIS account pretend...  not_cyberbullying"
      ]
     },
     "execution_count": 2,
     "metadata": {},
     "output_type": "execute_result"
    }
   ],
   "source": [
    "df = pd.read_csv('cyberbullying_tweets.csv')\n",
    "df.head()"
   ]
  },
  {
   "cell_type": "markdown",
   "id": "e1179cd1",
   "metadata": {},
   "source": [
    "## EDA and Data Preprocessing"
   ]
  },
  {
   "cell_type": "code",
   "execution_count": 3,
   "id": "fe907545",
   "metadata": {
    "scrolled": true
   },
   "outputs": [
    {
     "data": {
      "text/plain": [
       "(47692, 2)"
      ]
     },
     "execution_count": 3,
     "metadata": {},
     "output_type": "execute_result"
    }
   ],
   "source": [
    "df.shape"
   ]
  },
  {
   "cell_type": "code",
   "execution_count": 4,
   "id": "cf59c050",
   "metadata": {},
   "outputs": [
    {
     "name": "stdout",
     "output_type": "stream",
     "text": [
      "<class 'pandas.core.frame.DataFrame'>\n",
      "RangeIndex: 47692 entries, 0 to 47691\n",
      "Data columns (total 2 columns):\n",
      " #   Column              Non-Null Count  Dtype \n",
      "---  ------              --------------  ----- \n",
      " 0   tweet_text          47692 non-null  object\n",
      " 1   cyberbullying_type  47692 non-null  object\n",
      "dtypes: object(2)\n",
      "memory usage: 745.3+ KB\n"
     ]
    }
   ],
   "source": [
    "df.info()"
   ]
  },
  {
   "cell_type": "code",
   "execution_count": 5,
   "id": "64521532",
   "metadata": {},
   "outputs": [
    {
     "data": {
      "text/plain": [
       "36"
      ]
     },
     "execution_count": 5,
     "metadata": {},
     "output_type": "execute_result"
    }
   ],
   "source": [
    "df.duplicated().sum()"
   ]
  },
  {
   "cell_type": "code",
   "execution_count": 6,
   "id": "7955abbb",
   "metadata": {},
   "outputs": [],
   "source": [
    "df.drop_duplicates(inplace=True)"
   ]
  },
  {
   "cell_type": "code",
   "execution_count": 7,
   "id": "1c061858",
   "metadata": {},
   "outputs": [],
   "source": [
    "df.columns = ['tweet','type']"
   ]
  },
  {
   "cell_type": "code",
   "execution_count": 8,
   "id": "8d940ab0",
   "metadata": {},
   "outputs": [
    {
     "data": {
      "text/plain": [
       "religion               7997\n",
       "age                    7992\n",
       "ethnicity              7959\n",
       "gender                 7948\n",
       "not_cyberbullying      7937\n",
       "other_cyberbullying    7823\n",
       "Name: type, dtype: int64"
      ]
     },
     "execution_count": 8,
     "metadata": {},
     "output_type": "execute_result"
    }
   ],
   "source": [
    "df['type'].value_counts()"
   ]
  },
  {
   "cell_type": "code",
   "execution_count": 9,
   "id": "53434d11",
   "metadata": {},
   "outputs": [
    {
     "data": {
      "text/plain": [
       "20    @halalcunty @biebervalue @liamxkiwi @greenline...\n",
       "21    Kids Love😘❤ @ Mohamad Bin Zayed City مدينة محم...\n",
       "Name: tweet, dtype: object"
      ]
     },
     "execution_count": 9,
     "metadata": {},
     "output_type": "execute_result"
    }
   ],
   "source": [
    "df.iloc[20:22,0]"
   ]
  },
  {
   "cell_type": "code",
   "execution_count": 10,
   "id": "178f07cf",
   "metadata": {},
   "outputs": [],
   "source": [
    "df = df.sample(frac=1).reset_index(drop=True)"
   ]
  },
  {
   "cell_type": "code",
   "execution_count": 11,
   "id": "37720391",
   "metadata": {
    "scrolled": true
   },
   "outputs": [
    {
     "data": {
      "text/html": [
       "<div>\n",
       "<style scoped>\n",
       "    .dataframe tbody tr th:only-of-type {\n",
       "        vertical-align: middle;\n",
       "    }\n",
       "\n",
       "    .dataframe tbody tr th {\n",
       "        vertical-align: top;\n",
       "    }\n",
       "\n",
       "    .dataframe thead th {\n",
       "        text-align: right;\n",
       "    }\n",
       "</style>\n",
       "<table border=\"1\" class=\"dataframe\">\n",
       "  <thead>\n",
       "    <tr style=\"text-align: right;\">\n",
       "      <th></th>\n",
       "      <th>tweet</th>\n",
       "      <th>type</th>\n",
       "    </tr>\n",
       "  </thead>\n",
       "  <tbody>\n",
       "    <tr>\n",
       "      <th>0</th>\n",
       "      <td>Last in this session is Anthony Pratcher (Brow...</td>\n",
       "      <td>ethnicity</td>\n",
       "    </tr>\n",
       "    <tr>\n",
       "      <th>1</th>\n",
       "      <td>I have a sad story.Today I was having a conver...</td>\n",
       "      <td>age</td>\n",
       "    </tr>\n",
       "    <tr>\n",
       "      <th>2</th>\n",
       "      <td>You’re the idiot making generalizations about ...</td>\n",
       "      <td>religion</td>\n",
       "    </tr>\n",
       "    <tr>\n",
       "      <th>3</th>\n",
       "      <td>Rioting is dumb as fuck...but niggers love tha...</td>\n",
       "      <td>ethnicity</td>\n",
       "    </tr>\n",
       "    <tr>\n",
       "      <th>4</th>\n",
       "      <td>@desertfox899 woops!</td>\n",
       "      <td>not_cyberbullying</td>\n",
       "    </tr>\n",
       "  </tbody>\n",
       "</table>\n",
       "</div>"
      ],
      "text/plain": [
       "                                               tweet               type\n",
       "0  Last in this session is Anthony Pratcher (Brow...          ethnicity\n",
       "1  I have a sad story.Today I was having a conver...                age\n",
       "2  You’re the idiot making generalizations about ...           religion\n",
       "3  Rioting is dumb as fuck...but niggers love tha...          ethnicity\n",
       "4                               @desertfox899 woops!  not_cyberbullying"
      ]
     },
     "execution_count": 11,
     "metadata": {},
     "output_type": "execute_result"
    }
   ],
   "source": [
    "df.head()"
   ]
  },
  {
   "cell_type": "code",
   "execution_count": 12,
   "id": "6227f447",
   "metadata": {},
   "outputs": [
    {
     "data": {
      "text/plain": [
       "<Axes: xlabel='type', ylabel='count'>"
      ]
     },
     "execution_count": 12,
     "metadata": {},
     "output_type": "execute_result"
    },
    {
     "data": {
      "image/png": "[encoded data removed]",
      "text/plain": [
       "<Figure size 640x480 with 1 Axes>"
      ]
     },
     "metadata": {},
     "output_type": "display_data"
    }
   ],
   "source": [
    "sns.countplot(x=df['type'])"
   ]
  },
  {
   "cell_type": "code",
   "execution_count": 13,
   "id": "672f7a16",
   "metadata": {},
   "outputs": [
    {
     "data": {
      "text/plain": [
       "'“@tayyoung_: FUCK OBAMA, dumb ass nigger” &lt;—— tight'"
      ]
     },
     "execution_count": 13,
     "metadata": {},
     "output_type": "execute_result"
    }
   ],
   "source": [
    "df['tweet'][33]"
   ]
  },
  {
   "cell_type": "code",
   "execution_count": 14,
   "id": "39e93669",
   "metadata": {},
   "outputs": [
    {
     "data": {
      "text/plain": [
       "'ethnicity'"
      ]
     },
     "execution_count": 14,
     "metadata": {},
     "output_type": "execute_result"
    }
   ],
   "source": [
    "df['type'][33]"
   ]
  },
  {
   "cell_type": "code",
   "execution_count": 15,
   "id": "2dbf577a",
   "metadata": {},
   "outputs": [],
   "source": [
    "# Lowercasing\n",
    "# Removing Punctuation & Special Characters\n",
    "# removing single character\n",
    "# removing multiple spaces\n",
    "# Stop-Words Removal\n",
    "# Removal of URLs\n",
    "# Removal of HTML Tags\n",
    "# Stemming & Lemmatization\n",
    "# Tokenization\n",
    "# Text Normalization"
   ]
  },
  {
   "cell_type": "code",
   "execution_count": 16,
   "id": "c00ba9ed",
   "metadata": {},
   "outputs": [],
   "source": [
    "\n",
    "def preprocess_text(sentence):\n",
    "    tag_pattern = re.compile(r'<.*?>')\n",
    "    url_pattern = re.compile(r'https?://\\S+|www\\.\\S+')\n",
    "    # Lowercasing\n",
    "    sent = sentence.lower()\n",
    "    # Removal of HTML Tags\n",
    "    sent = re.sub(tag_pattern, '', sent)\n",
    "    # Removing Punctuation & Special Characters\n",
    "    sent = re.sub('[^a-zA-Z]',' ',sent)\n",
    "    # removing single character\n",
    "    sent = re.sub(r\"\\s+[a-zA-Z]\\s+\",' ',sent)\n",
    "    # removing multiple spaces\n",
    "    sent = re.sub(r'\\s+',' ',sent)\n",
    "    # Removal of URLs\n",
    "    sent = re.sub(url_pattern,'',sent)\n",
    "    return sent\n",
    "    "
   ]
  },
  {
   "cell_type": "code",
   "execution_count": 17,
   "id": "618634c5",
   "metadata": {},
   "outputs": [],
   "source": [
    "X = []\n",
    "corpus = list(df['tweet'])\n",
    "for line in corpus:\n",
    "    X.append(preprocess_text(line))"
   ]
  },
  {
   "cell_type": "code",
   "execution_count": 18,
   "id": "d4006960",
   "metadata": {},
   "outputs": [
    {
     "data": {
      "text/plain": [
       "' tayyoung fuck obama dumb ass nigger lt tight'"
      ]
     },
     "execution_count": 18,
     "metadata": {},
     "output_type": "execute_result"
    }
   ],
   "source": [
    "X[33]"
   ]
  },
  {
   "cell_type": "code",
   "execution_count": 19,
   "id": "0bd9ad4d",
   "metadata": {},
   "outputs": [],
   "source": [
    "y = df['type'].map({'other_cyberbullying':0,'not_cyberbullying':1,'gender':2,'ethnicity':3,'age':4,'religion':5})"
   ]
  },
  {
   "cell_type": "code",
   "execution_count": 20,
   "id": "76fdd783",
   "metadata": {},
   "outputs": [],
   "source": [
    "from sklearn.model_selection import train_test_split"
   ]
  },
  {
   "cell_type": "code",
   "execution_count": 21,
   "id": "21f3f374",
   "metadata": {},
   "outputs": [],
   "source": [
    "X_train,X_test,y_train,y_test = train_test_split(X,y,test_size = 0.20,random_state=42)"
   ]
  },
  {
   "cell_type": "markdown",
   "id": "26fb427d",
   "metadata": {},
   "source": [
    "## Converting sent into tokens and assigning them integers"
   ]
  },
  {
   "cell_type": "code",
   "execution_count": 22,
   "id": "88bbfabb",
   "metadata": {},
   "outputs": [],
   "source": [
    "tokenizer = Tokenizer()\n",
    "tokenizer.fit_on_texts(X_train)\n",
    "X_train = tokenizer.texts_to_sequences(X_train)\n",
    "X_test = tokenizer.texts_to_sequences(X_test)\n",
    "\n",
    "input_dim = len(tokenizer.word_index) + 1"
   ]
  },
  {
   "cell_type": "markdown",
   "id": "c2ad2c2e",
   "metadata": {},
   "source": [
    "## Padding sent to ensure they're of same length"
   ]
  },
  {
   "cell_type": "code",
   "execution_count": 23,
   "id": "45b5b2f6",
   "metadata": {},
   "outputs": [],
   "source": [
    "maxlen = 100\n",
    "X_train = pad_sequences(X_train,padding='pre',maxlen = maxlen)\n",
    "X_test = pad_sequences(X_test,padding='pre',maxlen = maxlen)"
   ]
  },
  {
   "cell_type": "code",
   "execution_count": 24,
   "id": "ef850438",
   "metadata": {},
   "outputs": [
    {
     "name": "stdout",
     "output_type": "stream",
     "text": [
      "['fasttext-wiki-news-subwords-300', 'conceptnet-numberbatch-17-06-300', 'word2vec-ruscorpora-300', 'word2vec-google-news-300', 'glove-wiki-gigaword-50', 'glove-wiki-gigaword-100', 'glove-wiki-gigaword-200', 'glove-wiki-gigaword-300', 'glove-twitter-25', 'glove-twitter-50', 'glove-twitter-100', 'glove-twitter-200', '__testing_word2vec-matrix-synopsis']\n"
     ]
    }
   ],
   "source": [
    "print(list(gensim.downloader.info()['models'].keys()))"
   ]
  },
  {
   "cell_type": "markdown",
   "id": "7d3f8c39",
   "metadata": {},
   "source": [
    "## Loading word2Vec and creating embedding matrix"
   ]
  },
  {
   "cell_type": "code",
   "execution_count": 25,
   "id": "33a1f0c3",
   "metadata": {
    "scrolled": true
   },
   "outputs": [
    {
     "name": "stdout",
     "output_type": "stream",
     "text": [
      "[==================================================] 100.0% 387.1/387.1MB downloaded\n"
     ]
    }
   ],
   "source": [
    "wv = api.load('glove-twitter-100')"
   ]
  },
  {
   "cell_type": "code",
   "execution_count": 26,
   "id": "1f3598db",
   "metadata": {},
   "outputs": [],
   "source": [
    "embedding_matrix = np.zeros((input_dim,100))\n",
    "for word,index in tokenizer.word_index.items():\n",
    "    if word in wv:\n",
    "        embedding_matrix[index] = wv[word]"
   ]
  },
  {
   "cell_type": "markdown",
   "id": "4df80541",
   "metadata": {},
   "source": [
    "## Building the model"
   ]
  },
  {
   "cell_type": "code",
   "execution_count": 27,
   "id": "f481e827",
   "metadata": {},
   "outputs": [
    {
     "name": "stdout",
     "output_type": "stream",
     "text": [
      "WARNING:tensorflow:From C:\\Users\\odhia\\AppData\\Local\\anaconda3\\lib\\site-packages\\keras\\src\\backend.py:873: The name tf.get_default_graph is deprecated. Please use tf.compat.v1.get_default_graph instead.\n",
      "\n"
     ]
    }
   ],
   "source": [
    "model = Sequential([\n",
    "    Embedding(input_dim = input_dim,output_dim = 100,weights = [embedding_matrix],input_length = maxlen,trainable = False),\n",
    "    LSTM(128),\n",
    "    Dense(6,activation = 'softmax')\n",
    "])"
   ]
  },
  {
   "cell_type": "code",
   "execution_count": 28,
   "id": "0a495d30",
   "metadata": {},
   "outputs": [
    {
     "name": "stdout",
     "output_type": "stream",
     "text": [
      "WARNING:tensorflow:From C:\\Users\\odhia\\AppData\\Local\\anaconda3\\lib\\site-packages\\keras\\src\\optimizers\\__init__.py:309: The name tf.train.Optimizer is deprecated. Please use tf.compat.v1.train.Optimizer instead.\n",
      "\n"
     ]
    }
   ],
   "source": [
    "model.compile(optimizer = 'adam',loss='sparse_categorical_crossentropy',metrics = ['accuracy'])"
   ]
  },
  {
   "cell_type": "markdown",
   "id": "0b5ea597",
   "metadata": {},
   "source": [
    "## Fitting the model"
   ]
  },
  {
   "cell_type": "code",
   "execution_count": 29,
   "id": "eb7b5200",
   "metadata": {
    "scrolled": true
   },
   "outputs": [
    {
     "name": "stdout",
     "output_type": "stream",
     "text": [
      "Epoch 1/15\n",
      "WARNING:tensorflow:From C:\\Users\\odhia\\AppData\\Local\\anaconda3\\lib\\site-packages\\keras\\src\\utils\\tf_utils.py:492: The name tf.ragged.RaggedTensorValue is deprecated. Please use tf.compat.v1.ragged.RaggedTensorValue instead.\n",
      "\n",
      "WARNING:tensorflow:From C:\\Users\\odhia\\AppData\\Local\\anaconda3\\lib\\site-packages\\keras\\src\\engine\\base_layer_utils.py:384: The name tf.executing_eagerly_outside_functions is deprecated. Please use tf.compat.v1.executing_eagerly_outside_functions instead.\n",
      "\n",
      "239/239 [==============================] - 73s 218ms/step - loss: 0.7185 - accuracy: 0.7222 - val_loss: 0.5208 - val_accuracy: 0.7945\n",
      "Epoch 2/15\n",
      "239/239 [==============================] - 49s 205ms/step - loss: 0.4851 - accuracy: 0.8069 - val_loss: 0.4726 - val_accuracy: 0.8117\n",
      "Epoch 3/15\n",
      "239/239 [==============================] - 47s 198ms/step - loss: 0.4345 - accuracy: 0.8242 - val_loss: 0.4399 - val_accuracy: 0.8199\n",
      "Epoch 4/15\n",
      "239/239 [==============================] - 47s 198ms/step - loss: 0.4017 - accuracy: 0.8380 - val_loss: 0.4252 - val_accuracy: 0.8281\n",
      "Epoch 5/15\n",
      "239/239 [==============================] - 49s 205ms/step - loss: 0.3756 - accuracy: 0.8465 - val_loss: 0.4226 - val_accuracy: 0.8231\n",
      "Epoch 6/15\n",
      "239/239 [==============================] - 49s 206ms/step - loss: 0.3568 - accuracy: 0.8552 - val_loss: 0.4189 - val_accuracy: 0.8317\n",
      "Epoch 7/15\n",
      "239/239 [==============================] - 49s 205ms/step - loss: 0.3417 - accuracy: 0.8606 - val_loss: 0.3978 - val_accuracy: 0.8391\n",
      "Epoch 8/15\n",
      "239/239 [==============================] - 47s 198ms/step - loss: 0.3227 - accuracy: 0.8668 - val_loss: 0.4018 - val_accuracy: 0.8329\n",
      "Epoch 9/15\n",
      "239/239 [==============================] - 48s 199ms/step - loss: 0.3039 - accuracy: 0.8750 - val_loss: 0.4000 - val_accuracy: 0.8321\n",
      "Epoch 10/15\n",
      "239/239 [==============================] - 48s 200ms/step - loss: 0.2871 - accuracy: 0.8809 - val_loss: 0.4067 - val_accuracy: 0.8350\n",
      "Epoch 11/15\n",
      "239/239 [==============================] - 48s 199ms/step - loss: 0.2717 - accuracy: 0.8878 - val_loss: 0.4186 - val_accuracy: 0.8357\n",
      "Epoch 12/15\n",
      "239/239 [==============================] - 49s 207ms/step - loss: 0.2557 - accuracy: 0.8943 - val_loss: 0.4185 - val_accuracy: 0.8366\n",
      "Epoch 13/15\n",
      "239/239 [==============================] - 47s 199ms/step - loss: 0.2378 - accuracy: 0.9009 - val_loss: 0.4351 - val_accuracy: 0.8325\n",
      "Epoch 14/15\n",
      "239/239 [==============================] - 47s 195ms/step - loss: 0.2257 - accuracy: 0.9064 - val_loss: 0.4555 - val_accuracy: 0.8353\n",
      "Epoch 15/15\n",
      "239/239 [==============================] - 45s 189ms/step - loss: 0.2080 - accuracy: 0.9140 - val_loss: 0.4543 - val_accuracy: 0.8295\n"
     ]
    }
   ],
   "source": [
    "history = model.fit(X_train,y_train,batch_size = 128,epochs = 15, verbose = 1,validation_split = 0.2)"
   ]
  },
  {
   "cell_type": "code",
   "execution_count": 30,
   "id": "89fa4505",
   "metadata": {},
   "outputs": [
    {
     "name": "stdout",
     "output_type": "stream",
     "text": [
      "298/298 [==============================] - 10s 30ms/step - loss: 0.4663 - accuracy: 0.8196\n",
      "Model's test loss: 0.4662594795227051\n",
      "Model's test accuracy: 0.8195551633834839\n"
     ]
    }
   ],
   "source": [
    "model_score = model.evaluate(X_test,y_test)\n",
    "print(f\"Model's test loss: {model_score[0]}\")\n",
    "print(f\"Model's test accuracy: {model_score[1]}\")"
   ]
  },
  {
   "cell_type": "code",
   "execution_count": 31,
   "id": "ee813bbd",
   "metadata": {},
   "outputs": [
    {
     "data": {
      "image/png": "[encoded data removed]",
      "text/plain": [
       "<Figure size 640x480 with 1 Axes>"
      ]
     },
     "metadata": {},
     "output_type": "display_data"
    }
   ],
   "source": [
    "plt.plot(history.history['accuracy'])\n",
    "plt.plot(history.history['val_accuracy'])\n",
    "\n",
    "plt.title('Model Accuracy')\n",
    "plt.xlabel('Epochs')\n",
    "plt.ylabel('Accuracy')\n",
    "plt.legend(['train','test'],loc = 'upper left')\n",
    "plt.show()"
   ]
  },
  {
   "cell_type": "code",
   "execution_count": 32,
   "id": "2952cdac",
   "metadata": {},
   "outputs": [
    {
     "data": {
      "image/png": "[encoded data removed]",
      "text/plain": [
       "<Figure size 640x480 with 1 Axes>"
      ]
     },
     "metadata": {},
     "output_type": "display_data"
    }
   ],
   "source": [
    "plt.plot(history.history['loss'])\n",
    "plt.plot(history.history['val_loss'])\n",
    "\n",
    "plt.title('Model Accuracy')\n",
    "plt.xlabel('Epochs')\n",
    "plt.ylabel('Loss')\n",
    "plt.legend(['train','test'],loc = 'upper left')\n",
    "plt.show()"
   ]
  },
  {
   "cell_type": "markdown",
   "id": "813de10a",
   "metadata": {},
   "source": [
    "## Defining a predictor for user's input"
   ]
  },
  {
   "cell_type": "code",
   "execution_count": 33,
   "id": "8afe648a",
   "metadata": {},
   "outputs": [],
   "source": [
    "inp = \"The thing about Uber is, even if it wasn't a horrible, sexist, shitty company, I would still be against it.\"\n",
    "x = []\n",
    "x.append(preprocess_text(inp))"
   ]
  },
  {
   "cell_type": "code",
   "execution_count": 34,
   "id": "f0086262",
   "metadata": {},
   "outputs": [],
   "source": [
    "x = tokenizer.texts_to_sequences(x)\n",
    "x = pad_sequences(x,padding='pre',maxlen = 100)"
   ]
  },
  {
   "cell_type": "code",
   "execution_count": 37,
   "id": "aa66dfa0",
   "metadata": {},
   "outputs": [
    {
     "name": "stdout",
     "output_type": "stream",
     "text": [
      "1/1 [==============================] - 0s 197ms/step\n"
     ]
    },
    {
     "data": {
      "text/plain": [
       "1"
      ]
     },
     "execution_count": 37,
     "metadata": {},
     "output_type": "execute_result"
    }
   ],
   "source": [
    "prediction = model.predict(x)[0]\n",
    "predicted_class = np.argmax(prediction)\n",
    "predicted_class"
   ]
  },
  {
   "cell_type": "markdown",
   "id": "998d0fd5",
   "metadata": {},
   "source": [
    "## Saving model and tokenizer"
   ]
  },
  {
   "cell_type": "code",
   "execution_count": 38,
   "id": "d59af080",
   "metadata": {},
   "outputs": [
    {
     "name": "stderr",
     "output_type": "stream",
     "text": [
      "C:\\Users\\odhia\\AppData\\Local\\anaconda3\\lib\\site-packages\\keras\\src\\engine\\training.py:3103: UserWarning: You are saving your model as an HDF5 file via `model.save()`. This file format is considered legacy. We recommend using instead the native Keras format, e.g. `model.save('my_model.keras')`.\n",
      "  saving_api.save_model(\n"
     ]
    }
   ],
   "source": [
    "import pickle\n",
    "pickle.dump(tokenizer,open('tokenizer.pkl','wb'))"
   ]
  },
  {
   "cell_type": "code",
   "execution_count": 39,
   "id": "932c66e6",
   "metadata": {},
   "outputs": [],
   "source": [
    "model.save('twittModel.keras')"
   ]
  },
  {
   "cell_type": "code",
   "execution_count": null,
   "id": "66b9dd9a",
   "metadata": {},
   "outputs": [],
   "source": []
  }
 ],
 "metadata": {
  "kernelspec": {
   "display_name": "Python 3 (ipykernel)",
   "language": "python",
   "name": "python3"
  },
  "language_info": {
   "codemirror_mode": {
    "name": "ipython",
    "version": 3
   },
   "file_extension": ".py",
   "mimetype": "text/x-python",
   "name": "python",
   "nbconvert_exporter": "python",
   "pygments_lexer": "ipython3",
   "version": "3.10.9"
  }
 },
 "nbformat": 4,
 "nbformat_minor": 5
}
